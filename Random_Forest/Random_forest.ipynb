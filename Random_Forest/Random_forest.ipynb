{
 "cells": [
  {
   "cell_type": "code",
   "execution_count": 286,
   "id": "031b0148-e611-4131-9f50-7b9bb6a906c3",
   "metadata": {},
   "outputs": [],
   "source": [
    "from sklearn.datasets import load_iris\n",
    "iris= load_iris()\n",
    "import pandas as pd"
   ]
  },
  {
   "cell_type": "code",
   "execution_count": 287,
   "id": "663b5163-2a73-47e0-ac13-d7002dea03df",
   "metadata": {},
   "outputs": [
    {
     "data": {
      "text/plain": [
       "['data',\n",
       " 'target',\n",
       " 'frame',\n",
       " 'target_names',\n",
       " 'DESCR',\n",
       " 'feature_names',\n",
       " 'filename',\n",
       " 'data_module']"
      ]
     },
     "execution_count": 287,
     "metadata": {},
     "output_type": "execute_result"
    }
   ],
   "source": [
    "list(iris)"
   ]
  },
  {
   "cell_type": "code",
   "execution_count": 288,
   "id": "df76dbd8-2e2a-468b-8652-dea8d2075831",
   "metadata": {},
   "outputs": [
    {
     "data": {
      "text/plain": [
       "array(['setosa', 'versicolor', 'virginica'], dtype='<U10')"
      ]
     },
     "execution_count": 288,
     "metadata": {},
     "output_type": "execute_result"
    }
   ],
   "source": [
    "df = pd.DataFrame(iris['data'],columns=iris['feature_names'])\n",
    "df['target']= iris['target']\n",
    "iris['target_names']"
   ]
  },
  {
   "cell_type": "code",
   "execution_count": 289,
   "id": "60a7760b-6484-4d46-8b64-24d3957ba8c8",
   "metadata": {},
   "outputs": [
    {
     "data": {
      "text/html": [
       "<div>\n",
       "<style scoped>\n",
       "    .dataframe tbody tr th:only-of-type {\n",
       "        vertical-align: middle;\n",
       "    }\n",
       "\n",
       "    .dataframe tbody tr th {\n",
       "        vertical-align: top;\n",
       "    }\n",
       "\n",
       "    .dataframe thead th {\n",
       "        text-align: right;\n",
       "    }\n",
       "</style>\n",
       "<table border=\"1\" class=\"dataframe\">\n",
       "  <thead>\n",
       "    <tr style=\"text-align: right;\">\n",
       "      <th></th>\n",
       "      <th>sepal length (cm)</th>\n",
       "      <th>sepal width (cm)</th>\n",
       "      <th>petal length (cm)</th>\n",
       "      <th>petal width (cm)</th>\n",
       "      <th>target</th>\n",
       "    </tr>\n",
       "  </thead>\n",
       "  <tbody>\n",
       "    <tr>\n",
       "      <th>0</th>\n",
       "      <td>5.1</td>\n",
       "      <td>3.5</td>\n",
       "      <td>1.4</td>\n",
       "      <td>0.2</td>\n",
       "      <td>0</td>\n",
       "    </tr>\n",
       "    <tr>\n",
       "      <th>1</th>\n",
       "      <td>4.9</td>\n",
       "      <td>3.0</td>\n",
       "      <td>1.4</td>\n",
       "      <td>0.2</td>\n",
       "      <td>0</td>\n",
       "    </tr>\n",
       "    <tr>\n",
       "      <th>2</th>\n",
       "      <td>4.7</td>\n",
       "      <td>3.2</td>\n",
       "      <td>1.3</td>\n",
       "      <td>0.2</td>\n",
       "      <td>0</td>\n",
       "    </tr>\n",
       "    <tr>\n",
       "      <th>3</th>\n",
       "      <td>4.6</td>\n",
       "      <td>3.1</td>\n",
       "      <td>1.5</td>\n",
       "      <td>0.2</td>\n",
       "      <td>0</td>\n",
       "    </tr>\n",
       "    <tr>\n",
       "      <th>4</th>\n",
       "      <td>5.0</td>\n",
       "      <td>3.6</td>\n",
       "      <td>1.4</td>\n",
       "      <td>0.2</td>\n",
       "      <td>0</td>\n",
       "    </tr>\n",
       "  </tbody>\n",
       "</table>\n",
       "</div>"
      ],
      "text/plain": [
       "   sepal length (cm)  sepal width (cm)  petal length (cm)  petal width (cm)  \\\n",
       "0                5.1               3.5                1.4               0.2   \n",
       "1                4.9               3.0                1.4               0.2   \n",
       "2                4.7               3.2                1.3               0.2   \n",
       "3                4.6               3.1                1.5               0.2   \n",
       "4                5.0               3.6                1.4               0.2   \n",
       "\n",
       "   target  \n",
       "0       0  \n",
       "1       0  \n",
       "2       0  \n",
       "3       0  \n",
       "4       0  "
      ]
     },
     "execution_count": 289,
     "metadata": {},
     "output_type": "execute_result"
    }
   ],
   "source": [
    "df.head()"
   ]
  },
  {
   "cell_type": "code",
   "execution_count": 290,
   "id": "8bd60b6c-871a-4704-ba7b-ec1f39de8d25",
   "metadata": {},
   "outputs": [
    {
     "data": {
      "text/html": [
       "<div>\n",
       "<style scoped>\n",
       "    .dataframe tbody tr th:only-of-type {\n",
       "        vertical-align: middle;\n",
       "    }\n",
       "\n",
       "    .dataframe tbody tr th {\n",
       "        vertical-align: top;\n",
       "    }\n",
       "\n",
       "    .dataframe thead th {\n",
       "        text-align: right;\n",
       "    }\n",
       "</style>\n",
       "<table border=\"1\" class=\"dataframe\">\n",
       "  <thead>\n",
       "    <tr style=\"text-align: right;\">\n",
       "      <th></th>\n",
       "      <th>sepal length (cm)</th>\n",
       "      <th>sepal width (cm)</th>\n",
       "      <th>petal length (cm)</th>\n",
       "      <th>petal width (cm)</th>\n",
       "    </tr>\n",
       "  </thead>\n",
       "  <tbody>\n",
       "    <tr>\n",
       "      <th>0</th>\n",
       "      <td>5.1</td>\n",
       "      <td>3.5</td>\n",
       "      <td>1.4</td>\n",
       "      <td>0.2</td>\n",
       "    </tr>\n",
       "    <tr>\n",
       "      <th>1</th>\n",
       "      <td>4.9</td>\n",
       "      <td>3.0</td>\n",
       "      <td>1.4</td>\n",
       "      <td>0.2</td>\n",
       "    </tr>\n",
       "    <tr>\n",
       "      <th>2</th>\n",
       "      <td>4.7</td>\n",
       "      <td>3.2</td>\n",
       "      <td>1.3</td>\n",
       "      <td>0.2</td>\n",
       "    </tr>\n",
       "    <tr>\n",
       "      <th>3</th>\n",
       "      <td>4.6</td>\n",
       "      <td>3.1</td>\n",
       "      <td>1.5</td>\n",
       "      <td>0.2</td>\n",
       "    </tr>\n",
       "    <tr>\n",
       "      <th>4</th>\n",
       "      <td>5.0</td>\n",
       "      <td>3.6</td>\n",
       "      <td>1.4</td>\n",
       "      <td>0.2</td>\n",
       "    </tr>\n",
       "  </tbody>\n",
       "</table>\n",
       "</div>"
      ],
      "text/plain": [
       "   sepal length (cm)  sepal width (cm)  petal length (cm)  petal width (cm)\n",
       "0                5.1               3.5                1.4               0.2\n",
       "1                4.9               3.0                1.4               0.2\n",
       "2                4.7               3.2                1.3               0.2\n",
       "3                4.6               3.1                1.5               0.2\n",
       "4                5.0               3.6                1.4               0.2"
      ]
     },
     "execution_count": 290,
     "metadata": {},
     "output_type": "execute_result"
    }
   ],
   "source": [
    "X= df.drop(['target'],axis='columns')\n",
    "X.head()"
   ]
  },
  {
   "cell_type": "code",
   "execution_count": 291,
   "id": "8e0e449f-8c37-4d6e-976b-798764e0a821",
   "metadata": {},
   "outputs": [
    {
     "data": {
      "text/plain": [
       "0    0\n",
       "1    0\n",
       "2    0\n",
       "3    0\n",
       "4    0\n",
       "Name: target, dtype: int64"
      ]
     },
     "execution_count": 291,
     "metadata": {},
     "output_type": "execute_result"
    }
   ],
   "source": [
    "y=df['target']\n",
    "y.head()"
   ]
  },
  {
   "cell_type": "code",
   "execution_count": 292,
   "id": "37f3ef42-0c26-48b6-b140-519ad1e3437f",
   "metadata": {},
   "outputs": [],
   "source": [
    "from sklearn.model_selection import train_test_split"
   ]
  },
  {
   "cell_type": "code",
   "execution_count": 293,
   "id": "08473cec-ad1d-41d6-980d-1de000b7745c",
   "metadata": {},
   "outputs": [],
   "source": [
    "X_train,X_test,y_train,y_test = train_test_split(X,y,test_size=0.3)"
   ]
  },
  {
   "cell_type": "code",
   "execution_count": 294,
   "id": "b7807b1b-5d47-45fb-b5d7-8eafc7cccc7e",
   "metadata": {},
   "outputs": [
    {
     "name": "stdout",
     "output_type": "stream",
     "text": [
      "The score is 0.9333333333333333, when n_estimators is 1\n",
      "The score is 0.9555555555555556, when n_estimators is 2\n",
      "The score is 0.9777777777777777, when n_estimators is 3\n",
      "The score is 0.9777777777777777, when n_estimators is 4\n",
      "The score is 0.9555555555555556, when n_estimators is 5\n",
      "The score is 0.9777777777777777, when n_estimators is 6\n",
      "The score is 0.9333333333333333, when n_estimators is 7\n",
      "The score is 0.9777777777777777, when n_estimators is 8\n",
      "The score is 0.9777777777777777, when n_estimators is 9\n",
      "The score is 0.9777777777777777, when n_estimators is 10\n",
      "The score is 0.9777777777777777, when n_estimators is 11\n",
      "The score is 0.9333333333333333, when n_estimators is 12\n",
      "The score is 0.9555555555555556, when n_estimators is 13\n",
      "The score is 0.9777777777777777, when n_estimators is 14\n",
      "The score is 0.9555555555555556, when n_estimators is 15\n",
      "The score is 0.9555555555555556, when n_estimators is 16\n",
      "The score is 0.9777777777777777, when n_estimators is 17\n",
      "The score is 0.9777777777777777, when n_estimators is 18\n",
      "The score is 0.9333333333333333, when n_estimators is 19\n",
      "The score is 0.9555555555555556, when n_estimators is 20\n",
      "The score is 0.9777777777777777, when n_estimators is 21\n",
      "The score is 0.9555555555555556, when n_estimators is 22\n",
      "The score is 0.9555555555555556, when n_estimators is 23\n",
      "The score is 0.9777777777777777, when n_estimators is 24\n",
      "The score is 0.9777777777777777, when n_estimators is 25\n",
      "The score is 0.9555555555555556, when n_estimators is 26\n",
      "The score is 0.9555555555555556, when n_estimators is 27\n",
      "The score is 0.9555555555555556, when n_estimators is 28\n",
      "The score is 0.9555555555555556, when n_estimators is 29\n",
      "The score is 0.9555555555555556, when n_estimators is 30\n",
      "The score is 0.9555555555555556, when n_estimators is 31\n",
      "The score is 0.9555555555555556, when n_estimators is 32\n",
      "The score is 0.9777777777777777, when n_estimators is 33\n",
      "The score is 0.9777777777777777, when n_estimators is 34\n",
      "The score is 0.9777777777777777, when n_estimators is 35\n",
      "The score is 0.9555555555555556, when n_estimators is 36\n",
      "The score is 0.9777777777777777, when n_estimators is 37\n",
      "The score is 0.9555555555555556, when n_estimators is 38\n",
      "The score is 0.9777777777777777, when n_estimators is 39\n",
      "The score is 0.9555555555555556, when n_estimators is 40\n",
      "The score is 0.9777777777777777, when n_estimators is 41\n",
      "The score is 0.9777777777777777, when n_estimators is 42\n",
      "The score is 0.9777777777777777, when n_estimators is 43\n",
      "The score is 0.9777777777777777, when n_estimators is 44\n",
      "The score is 0.9555555555555556, when n_estimators is 45\n",
      "The score is 0.9777777777777777, when n_estimators is 46\n",
      "The score is 0.9777777777777777, when n_estimators is 47\n",
      "The score is 0.9777777777777777, when n_estimators is 48\n",
      "The score is 0.9777777777777777, when n_estimators is 49\n",
      "The score is 0.9555555555555556, when n_estimators is 50\n",
      "The score is 0.9777777777777777, when n_estimators is 51\n",
      "The score is 0.9555555555555556, when n_estimators is 52\n",
      "The score is 0.9555555555555556, when n_estimators is 53\n",
      "The score is 0.9777777777777777, when n_estimators is 54\n",
      "The score is 0.9777777777777777, when n_estimators is 55\n",
      "The score is 0.9777777777777777, when n_estimators is 56\n",
      "The score is 0.9555555555555556, when n_estimators is 57\n",
      "The score is 0.9555555555555556, when n_estimators is 58\n",
      "The score is 0.9777777777777777, when n_estimators is 59\n",
      "The score is 0.9777777777777777, when n_estimators is 60\n",
      "The score is 0.9777777777777777, when n_estimators is 61\n",
      "The score is 0.9555555555555556, when n_estimators is 62\n",
      "The score is 0.9777777777777777, when n_estimators is 63\n",
      "The score is 0.9777777777777777, when n_estimators is 64\n",
      "The score is 0.9555555555555556, when n_estimators is 65\n",
      "The score is 0.9777777777777777, when n_estimators is 66\n",
      "The score is 0.9777777777777777, when n_estimators is 67\n",
      "The score is 0.9555555555555556, when n_estimators is 68\n",
      "The score is 0.9777777777777777, when n_estimators is 69\n",
      "The score is 0.9555555555555556, when n_estimators is 70\n",
      "The score is 0.9777777777777777, when n_estimators is 71\n",
      "The score is 0.9555555555555556, when n_estimators is 72\n",
      "The score is 0.9555555555555556, when n_estimators is 73\n",
      "The score is 0.9777777777777777, when n_estimators is 74\n",
      "The score is 0.9777777777777777, when n_estimators is 75\n",
      "The score is 0.9777777777777777, when n_estimators is 76\n",
      "The score is 0.9777777777777777, when n_estimators is 77\n",
      "The score is 0.9555555555555556, when n_estimators is 78\n",
      "The score is 0.9777777777777777, when n_estimators is 79\n",
      "The score is 0.9777777777777777, when n_estimators is 80\n",
      "The score is 0.9777777777777777, when n_estimators is 81\n",
      "The score is 0.9555555555555556, when n_estimators is 82\n",
      "The score is 0.9777777777777777, when n_estimators is 83\n",
      "The score is 0.9777777777777777, when n_estimators is 84\n",
      "The score is 0.9777777777777777, when n_estimators is 85\n",
      "The score is 0.9555555555555556, when n_estimators is 86\n",
      "The score is 0.9555555555555556, when n_estimators is 87\n",
      "The score is 0.9777777777777777, when n_estimators is 88\n",
      "The score is 0.9555555555555556, when n_estimators is 89\n",
      "The score is 0.9777777777777777, when n_estimators is 90\n",
      "The score is 0.9777777777777777, when n_estimators is 91\n",
      "The score is 0.9777777777777777, when n_estimators is 92\n",
      "The score is 0.9777777777777777, when n_estimators is 93\n",
      "The score is 0.9777777777777777, when n_estimators is 94\n",
      "The score is 0.9777777777777777, when n_estimators is 95\n",
      "The score is 0.9555555555555556, when n_estimators is 96\n",
      "The score is 0.9777777777777777, when n_estimators is 97\n",
      "The score is 0.9555555555555556, when n_estimators is 98\n",
      "The score is 0.9777777777777777, when n_estimators is 99\n",
      "The score is 0.9777777777777777, when n_estimators is 100\n",
      "The score is 0.9777777777777777, when n_estimators is 101\n",
      "The score is 0.9777777777777777, when n_estimators is 102\n",
      "The score is 0.9777777777777777, when n_estimators is 103\n",
      "The score is 0.9777777777777777, when n_estimators is 104\n",
      "The score is 0.9555555555555556, when n_estimators is 105\n",
      "The score is 0.9777777777777777, when n_estimators is 106\n",
      "The score is 0.9777777777777777, when n_estimators is 107\n",
      "The score is 0.9555555555555556, when n_estimators is 108\n",
      "The score is 0.9777777777777777, when n_estimators is 109\n",
      "The score is 0.9777777777777777, when n_estimators is 110\n",
      "The score is 0.9777777777777777, when n_estimators is 111\n",
      "The score is 0.9777777777777777, when n_estimators is 112\n",
      "The score is 0.9555555555555556, when n_estimators is 113\n",
      "The score is 0.9555555555555556, when n_estimators is 114\n",
      "The score is 0.9777777777777777, when n_estimators is 115\n",
      "The score is 0.9777777777777777, when n_estimators is 116\n",
      "The score is 0.9777777777777777, when n_estimators is 117\n",
      "The score is 0.9777777777777777, when n_estimators is 118\n",
      "The score is 0.9777777777777777, when n_estimators is 119\n",
      "The score is 0.9555555555555556, when n_estimators is 120\n",
      "The score is 0.9777777777777777, when n_estimators is 121\n",
      "The score is 0.9777777777777777, when n_estimators is 122\n",
      "The score is 0.9777777777777777, when n_estimators is 123\n",
      "The score is 0.9555555555555556, when n_estimators is 124\n",
      "The score is 0.9777777777777777, when n_estimators is 125\n",
      "The score is 0.9555555555555556, when n_estimators is 126\n",
      "The score is 0.9777777777777777, when n_estimators is 127\n",
      "The score is 0.9777777777777777, when n_estimators is 128\n",
      "The score is 0.9777777777777777, when n_estimators is 129\n",
      "The score is 0.9555555555555556, when n_estimators is 130\n",
      "The score is 0.9777777777777777, when n_estimators is 131\n",
      "The score is 0.9555555555555556, when n_estimators is 132\n",
      "The score is 0.9777777777777777, when n_estimators is 133\n",
      "The score is 0.9555555555555556, when n_estimators is 134\n",
      "The score is 0.9555555555555556, when n_estimators is 135\n",
      "The score is 0.9555555555555556, when n_estimators is 136\n",
      "The score is 0.9555555555555556, when n_estimators is 137\n",
      "The score is 0.9777777777777777, when n_estimators is 138\n",
      "The score is 0.9777777777777777, when n_estimators is 139\n",
      "The score is 0.9777777777777777, when n_estimators is 140\n",
      "The score is 0.9777777777777777, when n_estimators is 141\n",
      "The score is 0.9777777777777777, when n_estimators is 142\n",
      "The score is 0.9777777777777777, when n_estimators is 143\n",
      "The score is 0.9777777777777777, when n_estimators is 144\n",
      "The score is 0.9777777777777777, when n_estimators is 145\n",
      "The score is 0.9555555555555556, when n_estimators is 146\n",
      "The score is 0.9777777777777777, when n_estimators is 147\n",
      "The score is 0.9777777777777777, when n_estimators is 148\n",
      "The score is 0.9777777777777777, when n_estimators is 149\n",
      "The score is 0.9777777777777777, when n_estimators is 150\n",
      "The score is 0.9777777777777777, when n_estimators is 151\n",
      "The score is 0.9777777777777777, when n_estimators is 152\n",
      "The score is 0.9555555555555556, when n_estimators is 153\n",
      "The score is 0.9777777777777777, when n_estimators is 154\n",
      "The score is 0.9777777777777777, when n_estimators is 155\n",
      "The score is 0.9777777777777777, when n_estimators is 156\n",
      "The score is 0.9777777777777777, when n_estimators is 157\n",
      "The score is 0.9777777777777777, when n_estimators is 158\n",
      "The score is 0.9777777777777777, when n_estimators is 159\n",
      "The score is 0.9777777777777777, when n_estimators is 160\n",
      "The score is 0.9555555555555556, when n_estimators is 161\n",
      "The score is 0.9777777777777777, when n_estimators is 162\n",
      "The score is 0.9777777777777777, when n_estimators is 163\n",
      "The score is 0.9555555555555556, when n_estimators is 164\n",
      "The score is 0.9777777777777777, when n_estimators is 165\n",
      "The score is 0.9777777777777777, when n_estimators is 166\n",
      "The score is 0.9777777777777777, when n_estimators is 167\n",
      "The score is 0.9555555555555556, when n_estimators is 168\n",
      "The score is 0.9777777777777777, when n_estimators is 169\n",
      "The score is 0.9555555555555556, when n_estimators is 170\n",
      "The score is 0.9777777777777777, when n_estimators is 171\n",
      "The score is 0.9777777777777777, when n_estimators is 172\n",
      "The score is 0.9555555555555556, when n_estimators is 173\n",
      "The score is 0.9555555555555556, when n_estimators is 174\n",
      "The score is 0.9777777777777777, when n_estimators is 175\n",
      "The score is 0.9777777777777777, when n_estimators is 176\n",
      "The score is 0.9777777777777777, when n_estimators is 177\n",
      "The score is 0.9555555555555556, when n_estimators is 178\n",
      "The score is 0.9777777777777777, when n_estimators is 179\n",
      "The score is 0.9777777777777777, when n_estimators is 180\n",
      "The score is 0.9777777777777777, when n_estimators is 181\n",
      "The score is 0.9777777777777777, when n_estimators is 182\n",
      "The score is 0.9777777777777777, when n_estimators is 183\n",
      "The score is 0.9777777777777777, when n_estimators is 184\n",
      "The score is 0.9777777777777777, when n_estimators is 185\n",
      "The score is 0.9777777777777777, when n_estimators is 186\n",
      "The score is 0.9777777777777777, when n_estimators is 187\n",
      "The score is 0.9555555555555556, when n_estimators is 188\n",
      "The score is 0.9555555555555556, when n_estimators is 189\n",
      "The score is 0.9555555555555556, when n_estimators is 190\n",
      "The score is 0.9777777777777777, when n_estimators is 191\n",
      "The score is 0.9777777777777777, when n_estimators is 192\n",
      "The score is 0.9777777777777777, when n_estimators is 193\n",
      "The score is 0.9555555555555556, when n_estimators is 194\n",
      "The score is 0.9777777777777777, when n_estimators is 195\n",
      "The score is 0.9777777777777777, when n_estimators is 196\n",
      "The score is 0.9555555555555556, when n_estimators is 197\n",
      "The score is 0.9777777777777777, when n_estimators is 198\n",
      "The score is 0.9555555555555556, when n_estimators is 199\n"
     ]
    }
   ],
   "source": [
    "from sklearn.ensemble import RandomForestClassifier\n",
    "for i in range(1,200):\n",
    "    model= RandomForestClassifier(n_estimators=i)\n",
    "    model.fit(X_train,y_train)\n",
    "    score = model.score(X_test,y_test)\n",
    "    print(f\"The score is {score}, when n_estimators is {i}\")"
   ]
  },
  {
   "cell_type": "code",
   "execution_count": 303,
   "id": "48a7cede-33a6-465c-844a-7bc84eac08d5",
   "metadata": {},
   "outputs": [
    {
     "data": {
      "text/plain": [
       "0.9777777777777777"
      ]
     },
     "execution_count": 303,
     "metadata": {},
     "output_type": "execute_result"
    }
   ],
   "source": [
    "model=RandomForestClassifier(n_estimators=100)\n",
    "model.fit(X_train,y_train)\n",
    "score=model.score(X_test,y_test)\n",
    "score"
   ]
  },
  {
   "cell_type": "code",
   "execution_count": 296,
   "id": "7425efe9-5d8d-4969-960a-0b1dd3d41432",
   "metadata": {},
   "outputs": [
    {
     "data": {
      "text/plain": [
       "array([[17,  0,  0],\n",
       "       [ 0, 11,  0],\n",
       "       [ 0,  2, 15]])"
      ]
     },
     "execution_count": 296,
     "metadata": {},
     "output_type": "execute_result"
    }
   ],
   "source": [
    "from sklearn.metrics import confusion_matrix\n",
    "y_predicted= model.predict(X_test)\n",
    "cm = confusion_matrix(y_test,y_predicted)\n",
    "cm"
   ]
  },
  {
   "cell_type": "code",
   "execution_count": 305,
   "id": "857e37c6-d96c-47fc-8727-837043c460fe",
   "metadata": {},
   "outputs": [
    {
     "data": {
      "text/plain": [
       "Text(0.5, 1.0, 'Confusion Matrix')"
      ]
     },
     "execution_count": 305,
     "metadata": {},
     "output_type": "execute_result"
    },
    {
     "data": {
      "image/png": "[encoded data removed]",
      "text/plain": [
       "<Figure size 1000x700 with 2 Axes>"
      ]
     },
     "metadata": {},
     "output_type": "display_data"
    }
   ],
   "source": [
    "import matplotlib.pyplot as plt\n",
    "import seaborn as sn\n",
    "plt.figure(figsize=(10,7))\n",
    "sn.heatmap(cm,annot=True)\n",
    "plt.xlabel(\"Predicted\")\n",
    "plt.ylabel(\"True\")\n",
    "plt.title(\"Confusion Matrix\")"
   ]
  },
  {
   "cell_type": "code",
   "execution_count": null,
   "id": "f7fc1093-ee0a-4aba-85f2-376152699dbd",
   "metadata": {},
   "outputs": [],
   "source": []
  }
 ],
 "metadata": {
  "kernelspec": {
   "display_name": "Python 3 (ipykernel)",
   "language": "python",
   "name": "python3"
  },
  "language_info": {
   "codemirror_mode": {
    "name": "ipython",
    "version": 3
   },
   "file_extension": ".py",
   "mimetype": "text/x-python",
   "name": "python",
   "nbconvert_exporter": "python",
   "pygments_lexer": "ipython3",
   "version": "3.11.4"
  }
 },
 "nbformat": 4,
 "nbformat_minor": 5
}
